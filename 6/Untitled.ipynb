{
 "cells": [
  {
   "cell_type": "code",
   "execution_count": 1,
   "metadata": {},
   "outputs": [
    {
     "ename": "SyntaxError",
     "evalue": "invalid syntax (<ipython-input-1-c2925bccb943>, line 1)",
     "output_type": "error",
     "traceback": [
      "\u001b[0;36m  File \u001b[0;32m\"<ipython-input-1-c2925bccb943>\"\u001b[0;36m, line \u001b[0;32m1\u001b[0m\n\u001b[0;31m    typedef struct {\u001b[0m\n\u001b[0m                 ^\u001b[0m\n\u001b[0;31mSyntaxError\u001b[0m\u001b[0;31m:\u001b[0m invalid syntax\n"
     ]
    }
   ],
   "source": [
    "typedef struct {\n",
    "    int a :1;\n",
    "    int b :10;\n",
    "} a;"
   ]
  },
  {
   "cell_type": "code",
   "execution_count": 15,
   "metadata": {},
   "outputs": [
    {
     "name": "stderr",
     "output_type": "stream",
     "text": [
      "input_line_26:2:2: error: reference to 'a' is ambiguous\n",
      " a\n",
      " ^\n",
      "input_line_20:5:3: note: candidate found by name lookup is 'a'\n",
      "} a;\n",
      "  ^\n",
      "input_line_16:2:6: note: candidate found by name lookup is 'a'\n",
      " int a = 100\n",
      "     ^\n"
     ]
    }
   ],
   "source": []
  },
  {
   "cell_type": "code",
   "execution_count": 5,
   "metadata": {},
   "outputs": [
    {
     "name": "stdout",
     "output_type": "stream",
     "text": [
      "(int) 1\n"
     ]
    }
   ],
   "source": []
  },
  {
   "cell_type": "code",
   "execution_count": null,
   "metadata": {},
   "outputs": [],
   "source": []
  }
 ],
 "metadata": {
  "kernelspec": {
   "display_name": "Python [conda env:cling]",
   "language": "python",
   "name": "conda-env-cling-py"
  }
 },
 "nbformat": 4,
 "nbformat_minor": 2
}
