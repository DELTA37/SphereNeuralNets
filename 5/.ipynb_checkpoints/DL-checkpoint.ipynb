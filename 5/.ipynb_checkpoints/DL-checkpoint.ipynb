{
 "cells": [
  {
   "cell_type": "markdown",
   "metadata": {},
   "source": [
    "## Семинар 5: \"Улучшение сходимости нейросетей\""
   ]
  },
  {
   "cell_type": "markdown",
   "metadata": {},
   "source": [
    "ФИО: Каспарьянц Георгий Григорьевич"
   ]
  },
  {
   "cell_type": "code",
   "execution_count": 89,
   "metadata": {},
   "outputs": [],
   "source": [
    "import numpy as np\n",
    "from sklearn.datasets import fetch_mldata\n",
    "from sklearn.cross_validation import train_test_split\n",
    "import matplotlib.pyplot as plt\n",
    "import torch\n",
    "from torch import nn\n",
    "from torch.autograd import Variable\n",
    "from torch.utils.data import DataLoader\n",
    "from torchvision.datasets import MNIST\n",
    "from torchvision import transforms\n",
    "from itertools import chain\n",
    "from tqdm import tqdm\n",
    "%matplotlib inline"
   ]
  },
  {
   "cell_type": "markdown",
   "metadata": {},
   "source": [
    "На этом семинаре мы попробуем улучшить результаты, полученные на предыдущем занятии\n",
    "Для этого нам понадобятся следующие вещи:\n",
    "* Dropout\n",
    "* Batch Normalization\n",
    "* Инициализация весов"
   ]
  },
  {
   "cell_type": "markdown",
   "metadata": {},
   "source": [
    "### Часть 1: Инициализация весов"
   ]
  },
  {
   "cell_type": "markdown",
   "metadata": {},
   "source": [
    "На лекции доказывалось, что при инициализации He и Glorot дисперсия активаций градиентов в каждом слое будут примерно равны. Давайте проверим это. "
   ]
  },
  {
   "cell_type": "code",
   "execution_count": 2,
   "metadata": {},
   "outputs": [],
   "source": [
    "# Dataloader\n",
    "to_numpy = lambda x: x.numpy()\n",
    "transform = transforms.Compose([\n",
    "                       transforms.ToTensor(),\n",
    "                       transforms.Normalize((0.1307,), (0.3081,))\n",
    "                    ])\n",
    "train_dataset = MNIST('.', train=True, download=True, transform=transform)\n",
    "test_dataset = MNIST('.', train=False, transform=transform)\n",
    "\n",
    "train_loader = DataLoader(train_dataset, batch_size=32, shuffle=True)\n",
    "test_loader = DataLoader(test_dataset, batch_size=32, shuffle=True)"
   ]
  },
  {
   "cell_type": "code",
   "execution_count": 3,
   "metadata": {},
   "outputs": [],
   "source": [
    "## Usage example:\n",
    "for X, y in train_loader:\n",
    "    X = X.view(X.size(0), -1)\n",
    "    X = X.numpy() ### Converts torch.Tensor to numpy array\n",
    "    y = y.numpy()\n",
    "    pass"
   ]
  },
  {
   "cell_type": "code",
   "execution_count": 4,
   "metadata": {},
   "outputs": [
    {
     "data": {
      "image/png": "[encoded data removed]",
      "text/plain": [
       "<matplotlib.figure.Figure at 0x7f8d5c27bb10>"
      ]
     },
     "metadata": {},
     "output_type": "display_data"
    }
   ],
   "source": [
    "plt.figure(figsize=(6, 7))\n",
    "for i in range(25):\n",
    "    plt.subplot(5, 5, i+1)\n",
    "    plt.imshow(X[i].reshape(28, 28), cmap=plt.cm.Greys_r)\n",
    "    plt.title(y[i])\n",
    "    plt.axis('off')"
   ]
  },
  {
   "cell_type": "markdown",
   "metadata": {},
   "source": [
    "<i> 1.1 </i> Инициализируйте полносвязную сеть нормальным шумом N(0, 0.1) с архитектурой 784 -> 500 x (10 раз) -> 10. В качестве активации возьмите tanh"
   ]
  },
  {
   "cell_type": "code",
   "execution_count": 58,
   "metadata": {},
   "outputs": [],
   "source": [
    "def init_layer(layer, mean=0, std=1):\n",
    "    print(layer[0].name)\n",
    "    weight = layer[0].state_dict()['weight']\n",
    "    weight.normal_(mean=0, std=1)\n",
    "    \n",
    "    bias = layer[0].state_dict()['bias']\n",
    "    bias.zero_()\n",
    "    \n",
    "\n",
    "def forward_hook(self, input_, output):\n",
    "    std = input_[0].std().data[0]\n",
    "    print 'forward', std\n",
    "\n",
    "def backward_hook(self, grad_input, grad_output):\n",
    "    std = grad_input[1].std().data[0]\n",
    "    print 'backward', std"
   ]
  },
  {
   "cell_type": "markdown",
   "metadata": {},
   "source": [
    "<i>1.2 Пропустите батч изображений через нейронную сеть и вычислите дисперсию активаций. Затем вычислите градиент и получите дисперсию градиентов. Сравните эти значения между собой для разных слоев.</i>"
   ]
  },
  {
   "cell_type": "code",
   "execution_count": 59,
   "metadata": {},
   "outputs": [
    {
     "data": {
      "text/plain": [
       "((100, 1, 28, 28), (100,))"
      ]
     },
     "execution_count": 59,
     "metadata": {},
     "output_type": "execute_result"
    }
   ],
   "source": [
    "n_objects = 100\n",
    "train_loader = DataLoader(train_dataset, batch_size=n_objects, shuffle=True)\n",
    "test_loader = DataLoader(test_dataset, batch_size=n_objects, shuffle=True)\n",
    "images_train, labels_train = next(iter(train_loader))\n",
    "images_train.numpy().shape, labels_train.numpy().shape"
   ]
  },
  {
   "cell_type": "markdown",
   "metadata": {},
   "source": [
    "# Linear"
   ]
  },
  {
   "cell_type": "code",
   "execution_count": 60,
   "metadata": {},
   "outputs": [
    {
     "name": "stdout",
     "output_type": "stream",
     "text": [
      "layer\n",
      "forward 0.996541619301\n",
      "backward 0.0752416625619\n"
     ]
    }
   ],
   "source": [
    "layer = nn.Linear(28*28, 10)\n",
    "layer.register_forward_hook(forward_hook)\n",
    "layer.register_backward_hook(backward_hook)\n",
    "layer.name = 'layer'\n",
    "init_layer([layer], 0.0, 0.1)\n",
    "X = Variable(images_train, requires_grad=False).view(n_objects, -1)\n",
    "y = Variable(labels_train, requires_grad=False)\n",
    "activations = layer(X)\n",
    "loss_fn = torch.nn.NLLLoss()\n",
    "optimizer = torch.optim.Adam(layer.parameters(), lr=0.001) \n",
    "loss = loss_fn(activations, y)\n",
    "loss.backward()"
   ]
  },
  {
   "cell_type": "markdown",
   "metadata": {},
   "source": [
    "# Logit regression"
   ]
  },
  {
   "cell_type": "code",
   "execution_count": 102,
   "metadata": {},
   "outputs": [
    {
     "name": "stdout",
     "output_type": "stream",
     "text": [
      "layer\n",
      "forward 0.996541619301\n",
      "backward 0.000875764584634\n"
     ]
    }
   ],
   "source": [
    "model = nn.Sequential(nn.Linear(28*28, 10), nn.Softmax())\n",
    "for i in [0]:\n",
    "    model[i].name = 'layer'\n",
    "    init_layer([model[i]], 0.0, 0.1)\n",
    "    model[i].register_forward_hook(forward_hook)\n",
    "    model[i].register_backward_hook(backward_hook)\n",
    "\n",
    "X = Variable(images_train, requires_grad=False).view(n_objects, -1)\n",
    "y = Variable(labels_train, requires_grad=False)\n",
    "activations = model(X)\n",
    "loss_fn = torch.nn.NLLLoss()\n",
    "optimizer = torch.optim.Adam(model.parameters(), lr=0.001) \n",
    "loss = loss_fn(activations, y)\n",
    "loss.backward()"
   ]
  },
  {
   "cell_type": "markdown",
   "metadata": {},
   "source": [
    "# Fully connected"
   ]
  },
  {
   "cell_type": "code",
   "execution_count": 101,
   "metadata": {},
   "outputs": [
    {
     "name": "stdout",
     "output_type": "stream",
     "text": [
      "layer\n",
      "layer\n",
      "forward 0.996541619301\n",
      "forward 13.2229166031\n",
      "backward 0.00957609154284\n",
      "backward 0.00181258365046\n"
     ]
    }
   ],
   "source": [
    "model = nn.Sequential(nn.Linear(28*28, 10), nn.ReLU(), nn.Linear(10, 10), nn.Softmax())\n",
    "for i in [0, 2]:\n",
    "    model[i].name = 'layer'\n",
    "    init_layer([model[i]], 0.0, 0.1)\n",
    "    model[i].register_forward_hook(forward_hook)\n",
    "    model[i].register_backward_hook(backward_hook)\n",
    "\n",
    "X = Variable(images_train, requires_grad=False).view(n_objects, -1)\n",
    "y = Variable(labels_train, requires_grad=False)\n",
    "activations = model(X)\n",
    "loss_fn = torch.nn.NLLLoss()\n",
    "optimizer = torch.optim.Adam(model.parameters(), lr=0.001) \n",
    "loss = loss_fn(activations, y)\n",
    "loss.backward()"
   ]
  },
  {
   "cell_type": "markdown",
   "metadata": {},
   "source": [
    "# Convolution"
   ]
  },
  {
   "cell_type": "code",
   "execution_count": 99,
   "metadata": {},
   "outputs": [
    {
     "name": "stdout",
     "output_type": "stream",
     "text": [
      "layer\n",
      "layer\n",
      "layer\n",
      "layer\n",
      "forward 0.996541619301\n",
      "forward 2.92828583717\n",
      "forward 14.5977935791\n",
      "forward 39.3008003235\n",
      "backward 0.0140717681497\n",
      "backward 0.0250306334347\n",
      "backward 0.0257566254586\n",
      "backward 0.0367922224104\n"
     ]
    }
   ],
   "source": [
    "feature_model = nn.Sequential(\n",
    "    nn.Conv2d(1, 3, bias=True, kernel_size=3), \n",
    "    nn.MaxPool2d(2), \n",
    "    nn.Conv2d(3, 3, bias=True, kernel_size=3),\n",
    "    nn.MaxPool2d(2),\n",
    "    nn.Conv2d(3, 1, bias=True, kernel_size=3),\n",
    ")\n",
    "\n",
    "for i in [0, 2, 4]:\n",
    "    feature_model[i].name = 'layer'\n",
    "    init_layer([feature_model[i]], 0.0, 0.1)\n",
    "    feature_model[i].register_forward_hook(forward_hook)\n",
    "    feature_model[i].register_backward_hook(backward_hook)\n",
    "    \n",
    "pred_model = nn.Sequential(\n",
    "    nn.Linear(9, 10),\n",
    "    nn.Softmax()\n",
    ")\n",
    "\n",
    "for i in [0]:\n",
    "    pred_model[i].name = 'layer'\n",
    "    init_layer([pred_model[i]], 0.0, 0.1)\n",
    "    pred_model[i].register_forward_hook(forward_hook)\n",
    "    pred_model[i].register_backward_hook(backward_hook)\n",
    "    \n",
    "X = Variable(images_train, requires_grad=False)\n",
    "y = Variable(labels_train, requires_grad=False)\n",
    "features = feature_model(X)\n",
    "features = features.view(n_objects, 9)\n",
    "activations = pred_model(features)\n",
    "loss_fn = torch.nn.NLLLoss()\n",
    "optimizer = torch.optim.Adam(chain(feature_model.parameters(), pred_model.parameters()), lr=0.001) \n",
    "loss = loss_fn(activations, y)\n",
    "loss.backward()"
   ]
  },
  {
   "cell_type": "markdown",
   "metadata": {},
   "source": [
    "<i>1.3 Повторите эксперимент для инициализаций He и Xavier (формулы есть в лекции).</i>"
   ]
  },
  {
   "cell_type": "code",
   "execution_count": 90,
   "metadata": {},
   "outputs": [],
   "source": [
    "def init_layer_xavier(layer):\n",
    "    # Тут надо быть аккуратным — можно случайно создать копию и менять значения у копии\n",
    "    print(layer[0].name)\n",
    "    n1 = layer[0].in_features\n",
    "    n2 = layer[0].out_features\n",
    "    \n",
    "    weight = layer[0].state_dict()['weight']\n",
    "    a = np.sqrt(6.0 / (n1 + n2))\n",
    "    weight.uniform_(-a, a)\n",
    "    \n",
    "    bias = layer[0].state_dict()['bias']\n",
    "    bias.zero_()\n",
    "    \n",
    "def init_layer_he(layer):\n",
    "    # Тут надо быть аккуратным — можно случайно создать копию и менять значения у копии\n",
    "    print(layer[0].name)\n",
    "    n1 = layer[0].in_features\n",
    "    n2 = layer[0].out_features\n",
    "    \n",
    "    weight = layer[0].state_dict()['weight']\n",
    "    weight.normal_(0, 2.0 / n1)\n",
    "    \n",
    "    bias = layer[0].state_dict()['bias']\n",
    "    bias.zero_()\n"
   ]
  },
  {
   "cell_type": "markdown",
   "metadata": {},
   "source": [
    "# Linear"
   ]
  },
  {
   "cell_type": "code",
   "execution_count": 103,
   "metadata": {},
   "outputs": [
    {
     "name": "stdout",
     "output_type": "stream",
     "text": [
      "layer\n",
      "forward 0.996541619301\n",
      "backward 0.0752416625619\n"
     ]
    }
   ],
   "source": [
    "layer = nn.Linear(28*28, 10)\n",
    "layer.register_forward_hook(forward_hook)\n",
    "layer.register_backward_hook(backward_hook)\n",
    "layer.name = 'layer'\n",
    "init_layer_xavier([layer])\n",
    "X = Variable(images_train, requires_grad=False).view(n_objects, -1)\n",
    "y = Variable(labels_train, requires_grad=False)\n",
    "activations = layer(X)\n",
    "loss_fn = torch.nn.NLLLoss()\n",
    "optimizer = torch.optim.Adam(layer.parameters(), lr=0.001) \n",
    "loss = loss_fn(activations, y)\n",
    "loss.backward()"
   ]
  },
  {
   "cell_type": "code",
   "execution_count": 104,
   "metadata": {},
   "outputs": [
    {
     "name": "stdout",
     "output_type": "stream",
     "text": [
      "layer\n",
      "forward 0.996541619301\n",
      "backward 0.0752416625619\n"
     ]
    }
   ],
   "source": [
    "layer = nn.Linear(28*28, 10)\n",
    "layer.register_forward_hook(forward_hook)\n",
    "layer.register_backward_hook(backward_hook)\n",
    "layer.name = 'layer'\n",
    "init_layer_he([layer])\n",
    "X = Variable(images_train, requires_grad=False).view(n_objects, -1)\n",
    "y = Variable(labels_train, requires_grad=False)\n",
    "activations = layer(X)\n",
    "loss_fn = torch.nn.NLLLoss()\n",
    "optimizer = torch.optim.Adam(layer.parameters(), lr=0.001) \n",
    "loss = loss_fn(activations, y)\n",
    "loss.backward()"
   ]
  },
  {
   "cell_type": "markdown",
   "metadata": {},
   "source": [
    "# MultiLayer Linear"
   ]
  },
  {
   "cell_type": "code",
   "execution_count": 105,
   "metadata": {},
   "outputs": [
    {
     "name": "stdout",
     "output_type": "stream",
     "text": [
      "layer\n",
      "layer\n",
      "forward 0.996541619301\n",
      "forward 0.918917894363\n",
      "backward 0.00649444572628\n",
      "backward 0.00313403550535\n"
     ]
    }
   ],
   "source": [
    "model = nn.Sequential(nn.Linear(28*28, 10), nn.ReLU(), nn.Linear(10, 10), nn.Softmax())\n",
    "for i in [0, 2]:\n",
    "    model[i].name = 'layer'\n",
    "    init_layer_xavier([model[i]])\n",
    "    model[i].register_forward_hook(forward_hook)\n",
    "    model[i].register_backward_hook(backward_hook)\n",
    "\n",
    "X = Variable(images_train, requires_grad=False).view(n_objects, -1)\n",
    "y = Variable(labels_train, requires_grad=False)\n",
    "activations = model(X)\n",
    "loss_fn = torch.nn.NLLLoss()\n",
    "optimizer = torch.optim.Adam(model.parameters(), lr=0.001) \n",
    "loss = loss_fn(activations, y)\n",
    "loss.backward()"
   ]
  },
  {
   "cell_type": "code",
   "execution_count": 106,
   "metadata": {},
   "outputs": [
    {
     "name": "stdout",
     "output_type": "stream",
     "text": [
      "layer\n",
      "layer\n",
      "forward 0.996541619301\n",
      "forward 0.0550724379718\n",
      "backward 0.000353155715857\n",
      "backward 0.0021835367661\n"
     ]
    }
   ],
   "source": [
    "model = nn.Sequential(nn.Linear(28*28, 10), nn.ReLU(), nn.Linear(10, 10), nn.Softmax())\n",
    "for i in [0, 2]:\n",
    "    model[i].name = 'layer'\n",
    "    init_layer_he([model[i]])\n",
    "    model[i].register_forward_hook(forward_hook)\n",
    "    model[i].register_backward_hook(backward_hook)\n",
    "\n",
    "X = Variable(images_train, requires_grad=False).view(n_objects, -1)\n",
    "y = Variable(labels_train, requires_grad=False)\n",
    "activations = model(X)\n",
    "loss_fn = torch.nn.NLLLoss()\n",
    "optimizer = torch.optim.Adam(model.parameters(), lr=0.001) \n",
    "loss = loss_fn(activations, y)\n",
    "loss.backward()"
   ]
  },
  {
   "cell_type": "markdown",
   "metadata": {},
   "source": [
    "<i> 1.4 Сделайте выводы по первой части </i>"
   ]
  },
  {
   "cell_type": "markdown",
   "metadata": {},
   "source": [
    "Дисперсия forward у xavier отличная, у he не очень, с обычной инициализацией совсем плохо\n",
    "Дисперсия backward у обычной не очень, а у he и xavier почти одинаковые"
   ]
  },
  {
   "cell_type": "markdown",
   "metadata": {},
   "source": [
    "### Часть 2: Dropout"
   ]
  },
  {
   "cell_type": "markdown",
   "metadata": {},
   "source": [
    "Другим полезным слоем является Dropout. В нем с вероятностью 1-p зануляется выход каждого нейрона. Этот слой уже реализован в pyTorch, поэтому вновь реализовывать его не интересно. Давайте реализуем DropConnect — аналог Dropout. В нем с вероятностью 1-p зануляется каждый вес слоя."
   ]
  },
  {
   "cell_type": "markdown",
   "metadata": {},
   "source": [
    "<i> 2.1 Реализуйте линейный слой с DropConnect </i>"
   ]
  },
  {
   "cell_type": "code",
   "execution_count": 194,
   "metadata": {},
   "outputs": [],
   "source": [
    "# полезная функция: .bernoulli_(p)\n",
    "# не забывайте делать requires_grad=False у маски\n",
    "# помните, что в вычислениях должны участвовать Variable, а не тензоры\n",
    "# не забывайте, что в pyTorch нету broadcasting (делайте .expand)\n",
    "\n",
    "class DropConnect(nn.Module):\n",
    "    def __init__(self, input_dim, output_dim, p):\n",
    "        super(DropConnect, self).__init__()\n",
    "        self.weight = Variable(torch.Tensor(input_dim, output_dim).normal_(mean=0, std=0.01), requires_grad=True)\n",
    "        self.bias = Variable(torch.Tensor(1, output_dim).zero_(), requires_grad=True)\n",
    "        self.p = p\n",
    "\n",
    "    def forward(self, x):\n",
    "        noise = torch.zeros(*self.weight.data.numpy().shape)\n",
    "        noise = Variable(noise.bernoulli_(self.p))\n",
    "        x = torch.mm(x, self.weight * noise)\n",
    "        x.add_(self.bias.expand_as(x))\n",
    "        return x"
   ]
  },
  {
   "cell_type": "markdown",
   "metadata": {},
   "source": [
    "<i> \n",
    "    2.2 Сравните графики обучения нейроных сетей:\n",
    "1. 784 -> 200 -> 200 -> 10 с ReLU и Dropout между всеми слоями \n",
    "2. 784 -> 200 -> 200 -> 10 с ReLU DropConnect вместо всех линейных слоев\n",
    "</i>"
   ]
  },
  {
   "cell_type": "code",
   "execution_count": 145,
   "metadata": {},
   "outputs": [],
   "source": [
    "model = nn.Sequential(\n",
    "    nn.Linear(784, 200), \n",
    "    nn.Dropout(0.9), \n",
    "    nn.ReLU(),\n",
    "    nn.Linear(200, 200), \n",
    "    nn.Dropout(0.9), \n",
    "    nn.ReLU(),\n",
    "    nn.Linear(200, 10),\n",
    "    nn.Dropout(0.9), \n",
    "    nn.Softmax()\n",
    ")"
   ]
  },
  {
   "cell_type": "code",
   "execution_count": 146,
   "metadata": {},
   "outputs": [
    {
     "name": "stderr",
     "output_type": "stream",
     "text": [
      "100%|██████████| 1875/1875 [00:59<00:00, 31.74it/s]\n"
     ]
    },
    {
     "data": {
      "image/png": "[encoded data removed]",
      "text/plain": [
       "<matplotlib.figure.Figure at 0x7f8d55656190>"
      ]
     },
     "metadata": {},
     "output_type": "display_data"
    }
   ],
   "source": [
    "transform = transforms.Compose([\n",
    "                       transforms.ToTensor(),\n",
    "                       transforms.Normalize((0.1307,), (0.3081,))\n",
    "                    ])\n",
    "train_dataset = MNIST('.', train=True, download=True, transform=transform)\n",
    "test_dataset = MNIST('.', train=False, transform=transform)\n",
    "\n",
    "train_loader = DataLoader(train_dataset, batch_size=32, shuffle=True)\n",
    "test_loader = DataLoader(test_dataset, batch_size=32, shuffle=True)\n",
    "loss_fn = torch.nn.NLLLoss()\n",
    "opt = torch.optim.Adam(model.parameters(), lr=0.001) \n",
    "losses = []\n",
    "for X, y in tqdm(train_loader):\n",
    "    X = Variable(X)\n",
    "    y = Variable(y)\n",
    "    X = X.view(X.size(0), -1)\n",
    "    y_pred = model(X)\n",
    "    loss = loss_fn(y_pred, y)\n",
    "    losses.append(loss.data.numpy()[0])\n",
    "    loss.backward()\n",
    "    opt.step()\n",
    "plt.plot(losses)\n",
    "plt.show()"
   ]
  },
  {
   "cell_type": "code",
   "execution_count": 195,
   "metadata": {},
   "outputs": [],
   "source": [
    "model = nn.Sequential(\n",
    "    DropConnect(784, 200, 1), \n",
    "    nn.ReLU(),\n",
    "    DropConnect(200, 200, 1), \n",
    "    nn.ReLU(),\n",
    "    nn.Linear(200, 10),\n",
    "    nn.Softmax()\n",
    ")"
   ]
  },
  {
   "cell_type": "code",
   "execution_count": 196,
   "metadata": {},
   "outputs": [
    {
     "data": {
      "image/png": "[encoded data removed]",
      "text/plain": [
       "<matplotlib.figure.Figure at 0x7f8d5b9b9650>"
      ]
     },
     "metadata": {},
     "output_type": "display_data"
    }
   ],
   "source": [
    "transform = transforms.Compose([\n",
    "                       transforms.ToTensor(),\n",
    "                       transforms.Normalize((0.1307,), (0.3081,))\n",
    "                    ])\n",
    "train_dataset = MNIST('.', train=True, download=True, transform=transform)\n",
    "test_dataset = MNIST('.', train=False, transform=transform)\n",
    "\n",
    "train_loader = DataLoader(train_dataset, batch_size=32, shuffle=True)\n",
    "test_loader = DataLoader(test_dataset, batch_size=32, shuffle=True)\n",
    "loss_fn = torch.nn.NLLLoss()\n",
    "opt = torch.optim.Adam(model.parameters(), lr=0.001) \n",
    "losses = []\n",
    "#for X, y in tqdm(train_loader):\n",
    "for X, y in train_loader:\n",
    "    X = Variable(X)\n",
    "    y = Variable(y)\n",
    "    X = X.view(X.size(0), -1)\n",
    "    y_pred = model(X)\n",
    "    loss = loss_fn(y_pred, y)\n",
    "    losses.append(loss.data.numpy()[0])\n",
    "    loss.backward()\n",
    "    opt.step()\n",
    "    \n",
    "plt.plot(losses)\n",
    "plt.show()"
   ]
  },
  {
   "cell_type": "markdown",
   "metadata": {},
   "source": [
    "<i> 2.3 Сделайте выводы по третьей части </i>"
   ]
  },
  {
   "cell_type": "raw",
   "metadata": {},
   "source": [
    "Сперва не сходились DropOut, только при p > 0.9 стал более или менее норм результат \n",
    "А DropConnect очень хорошо сходится"
   ]
  },
  {
   "cell_type": "markdown",
   "metadata": {},
   "source": [
    "В test-time стохастичность Dropout убирают и заменяют все веса на их ожидаемое значение: $\\mathbb{E}w = pw + (1-p)0 = pw$."
   ]
  },
  {
   "cell_type": "markdown",
   "metadata": {},
   "source": [
    "### Часть 3: Batch Normalization"
   ]
  },
  {
   "cell_type": "markdown",
   "metadata": {},
   "source": [
    "Наконец, давайте рассмотрим Batch Normalization. Этот слой вычитает среднее и делит на стандартное отклонение. Среднее и дисперсия вычисляются по батчу независимо для каждого нейрона. У этого слоя есть две важные проблемы: его нельзя использовать при обучении с размером батча 1 и он делает элементы батча зависимыми. Давайте реализуем аналог батч нормализации: <a href=https://arxiv.org/pdf/1607.06450.pdf>Layer normalization</a>. В layer normalization среднее и дисперсия вычисляются по активациям нейронов, независимо для каждого объекта."
   ]
  },
  {
   "cell_type": "markdown",
   "metadata": {},
   "source": [
    "<i> 3.1 Реализуйте Layer Normalization </i>"
   ]
  },
  {
   "cell_type": "code",
   "execution_count": 209,
   "metadata": {},
   "outputs": [],
   "source": [
    "# полезные функции: .std(dim), .mean(dim)\n",
    "# не забывайте, что в pyTorch нету broadcasting (делайте .expand)\n",
    "\n",
    "class LayerNormalization(nn.Module):\n",
    "    def __init__(self):\n",
    "        super(LayerNormalization, self).__init__()\n",
    "    def forward(self, x):\n",
    "        x = (x - x.mean(1).expand_as(x)) / x.std(1).expand_as(x)\n",
    "        return x"
   ]
  },
  {
   "cell_type": "markdown",
   "metadata": {},
   "source": [
    "<i> \n",
    "3.2 Сравните графики обучения нейроных сетей:\n",
    "1. 784 -> 200 -> 200 -> 10 с ReLU и Batch normalization между всеми слоями \n",
    "2. 784 -> 200 -> 200 -> 10 с ReLU и Layer normalization между всеми слоями \n",
    "</i>"
   ]
  },
  {
   "cell_type": "code",
   "execution_count": 199,
   "metadata": {},
   "outputs": [],
   "source": [
    "model = nn.Sequential(\n",
    "    nn.Linear(784, 200),\n",
    "    nn.BatchNorm1d(200),\n",
    "    nn.ReLU(),\n",
    "    nn.Linear(200, 200),\n",
    "    nn.BatchNorm1d(200),\n",
    "    nn.ReLU(),\n",
    "    nn.Linear(200, 10),\n",
    "    nn.Softmax()\n",
    ")"
   ]
  },
  {
   "cell_type": "code",
   "execution_count": 200,
   "metadata": {},
   "outputs": [
    {
     "data": {
      "image/png": "[encoded data removed]",
      "text/plain": [
       "<matplotlib.figure.Figure at 0x7f8d5570a510>"
      ]
     },
     "metadata": {},
     "output_type": "display_data"
    }
   ],
   "source": [
    "transform = transforms.Compose([\n",
    "                       transforms.ToTensor(),\n",
    "                       transforms.Normalize((0.1307,), (0.3081,))\n",
    "                    ])\n",
    "train_dataset = MNIST('.', train=True, download=True, transform=transform)\n",
    "test_dataset = MNIST('.', train=False, transform=transform)\n",
    "\n",
    "train_loader = DataLoader(train_dataset, batch_size=32, shuffle=True)\n",
    "test_loader = DataLoader(test_dataset, batch_size=32, shuffle=True)\n",
    "loss_fn = torch.nn.NLLLoss()\n",
    "opt = torch.optim.Adam(model.parameters(), lr=0.001) \n",
    "losses = []\n",
    "#for X, y in tqdm(train_loader):\n",
    "for X, y in train_loader:\n",
    "    X = Variable(X)\n",
    "    y = Variable(y)\n",
    "    X = X.view(X.size(0), -1)\n",
    "    y_pred = model(X)\n",
    "    loss = loss_fn(y_pred, y)\n",
    "    losses.append(loss.data.numpy()[0])\n",
    "    loss.backward()\n",
    "    opt.step()\n",
    "    \n",
    "plt.plot(losses)\n",
    "plt.show()"
   ]
  },
  {
   "cell_type": "code",
   "execution_count": 210,
   "metadata": {},
   "outputs": [],
   "source": [
    "model = nn.Sequential(\n",
    "    nn.Linear(784, 200),\n",
    "    LayerNormalization(),\n",
    "    nn.ReLU(),\n",
    "    nn.Linear(200, 200),\n",
    "    LayerNormalization(),\n",
    "    nn.ReLU(),\n",
    "    nn.Linear(200, 10),\n",
    "    nn.Softmax()\n",
    ")"
   ]
  },
  {
   "cell_type": "code",
   "execution_count": 212,
   "metadata": {},
   "outputs": [
    {
     "data": {
      "image/png": "[encoded data removed]",
      "text/plain": [
       "<matplotlib.figure.Figure at 0x7f8d55449e50>"
      ]
     },
     "metadata": {},
     "output_type": "display_data"
    }
   ],
   "source": [
    "transform = transforms.Compose([\n",
    "                       transforms.ToTensor(),\n",
    "                       transforms.Normalize((0.1307,), (0.3081,))\n",
    "                    ])\n",
    "train_dataset = MNIST('.', train=True, download=True, transform=transform)\n",
    "test_dataset = MNIST('.', train=False, transform=transform)\n",
    "\n",
    "train_loader = DataLoader(train_dataset, batch_size=32, shuffle=True)\n",
    "test_loader = DataLoader(test_dataset, batch_size=32, shuffle=True)\n",
    "loss_fn = torch.nn.NLLLoss()\n",
    "opt = torch.optim.Adam(model.parameters(), lr=0.001) \n",
    "losses = []\n",
    "#for X, y in tqdm(train_loader):\n",
    "for X, y in train_loader:\n",
    "    X = Variable(X)\n",
    "    y = Variable(y)\n",
    "    X = X.view(X.size(0), -1)\n",
    "    y_pred = model(X)\n",
    "    loss = loss_fn(y_pred, y)\n",
    "    losses.append(loss.data.numpy()[0])\n",
    "    loss.backward()\n",
    "    opt.step()\n",
    "plt.plot(losses)\n",
    "plt.show()"
   ]
  },
  {
   "cell_type": "markdown",
   "metadata": {},
   "source": [
    "<i> 3.3 Сделайте выводы по третьей части </i>"
   ]
  },
  {
   "cell_type": "raw",
   "metadata": {},
   "source": [
    "BatchNorm круче LayerNorm, но оба средства являются мощными улучшателями сходимости"
   ]
  },
  {
   "cell_type": "markdown",
   "metadata": {},
   "source": [
    "#### Feedback (опционально)"
   ]
  },
  {
   "cell_type": "markdown",
   "metadata": {},
   "source": [
    "Здесь вы можете оставить список опечаток из лекции или семинара:"
   ]
  },
  {
   "cell_type": "raw",
   "metadata": {},
   "source": []
  },
  {
   "cell_type": "markdown",
   "metadata": {},
   "source": [
    "Здесь вы можете оставить комментарии по лекции или семинару:"
   ]
  },
  {
   "cell_type": "raw",
   "metadata": {},
   "source": []
  }
 ],
 "metadata": {
  "kernelspec": {
   "display_name": "Python [conda env:py27]",
   "language": "python",
   "name": "conda-env-py27-py"
  },
  "language_info": {
   "codemirror_mode": {
    "name": "ipython",
    "version": 2
   },
   "file_extension": ".py",
   "mimetype": "text/x-python",
   "name": "python",
   "nbconvert_exporter": "python",
   "pygments_lexer": "ipython2",
   "version": "2.7.14"
  },
  "latex_envs": {
   "bibliofile": "biblio.bib",
   "cite_by": "apalike",
   "current_citInitial": 1,
   "eqLabelWithNumbers": true,
   "eqNumInitial": 0
  }
 },
 "nbformat": 4,
 "nbformat_minor": 1
}
